{
 "cells": [
  {
   "cell_type": "markdown",
   "source": [
    "# ETL Workspace\n",
    "\n",
    "The purposes of this notebook is to document and explore prelminary ETL (or possibly ELT) processes necessary for efficient storage, retrieval, and analysis of Degu Lab ephys data."
   ],
   "metadata": {
    "collapsed": false
   }
  },
  {
   "cell_type": "code",
   "execution_count": null,
   "outputs": [],
   "source": [
    "import os\n",
    "\n",
    "from degpy.session import Session\n",
    "from degpy.scraper import Scraper"
   ],
   "metadata": {
    "collapsed": false,
    "pycharm": {
     "name": "#%%\n"
    }
   }
  },
  {
   "cell_type": "markdown",
   "source": [
    "### Source Data\n",
    "This is data in original file structure from degu lab. Follows the following structure:\n",
    "```\n",
    "data\n",
    "    080602\n",
    "        080602_ps01_160614\n",
    "            2016-06-14_09-39-10\n",
    "                LFP1.ncs\n",
    "                LFP2.ncs\n",
    "                E1.ncs\n",
    "```         "
   ],
   "metadata": {
    "collapsed": false
   }
  },
  {
   "cell_type": "code",
   "execution_count": null,
   "outputs": [],
   "source": [
    "SOURCE_PATH = '/Volumes/Backup Plus/data'\n",
    "data = Scraper.crawl_files(SOURCE_PATH) # this is tuple of file paths, data size"
   ],
   "metadata": {
    "collapsed": false,
    "pycharm": {
     "name": "#%%\n"
    }
   }
  },
  {
   "cell_type": "code",
   "execution_count": null,
   "outputs": [],
   "source": [
    "print('Number of datafiles: {}'.format(len(data[0])))\n",
    "print('Total size of files: {:.2f}GB'.format(data[1]))"
   ],
   "metadata": {
    "collapsed": false,
    "pycharm": {
     "name": "#%%\n"
    }
   }
  },
  {
   "cell_type": "markdown",
   "source": [
    "The above files were all migrated into a single directory for ease of extraction, using the `Scraper.move_files()` function. Need to validate all files were migrated."
   ],
   "metadata": {
    "collapsed": false
   }
  },
  {
   "cell_type": "code",
   "execution_count": null,
   "outputs": [],
   "source": [
    "DEST_PATH = 'ephys'\n",
    "\n",
    "print('Numer of datafiles in dest: {}'.format(len(os.listdir(DEST_PATH))))"
   ],
   "metadata": {
    "collapsed": false,
    "pycharm": {
     "name": "#%%\n"
    }
   }
  },
  {
   "cell_type": "code",
   "execution_count": null,
   "outputs": [],
   "source": [
    "os.listdir(DEST_PATH)"
   ],
   "metadata": {
    "collapsed": false,
    "pycharm": {
     "name": "#%%\n"
    }
   }
  },
  {
   "cell_type": "markdown",
   "source": [
    "This isn't a very robust means of validating migration, but is fine for this exploration phase. Can't compare filenames because I changed filenames to following convention \n",
    "    \n",
    "    '270101_270101_ps10_151015_2015-10-15_09-15-40_LFP4.ncs'\n",
    "\n",
    "For production migration, will need to write something more robust."
   ],
   "metadata": {
    "collapsed": false
   }
  },
  {
   "cell_type": "markdown",
   "source": [
    "## Testing Session module "
   ],
   "metadata": {
    "collapsed": false
   }
  },
  {
   "cell_type": "code",
   "execution_count": null,
   "outputs": [],
   "source": [
    "dest_files = [os.path.join('ephys', x) for x in os.listdir('ephys')]"
   ],
   "metadata": {
    "collapsed": false,
    "pycharm": {
     "name": "#%%\n"
    }
   }
  },
  {
   "cell_type": "code",
   "execution_count": null,
   "outputs": [],
   "source": [
    "from degpy import neuralynx_io\n",
    "\n",
    "test_ncs = neuralynx_io.load_ncs(dest_files[0])"
   ],
   "metadata": {
    "collapsed": false,
    "pycharm": {
     "name": "#%%\n"
    }
   }
  },
  {
   "cell_type": "code",
   "execution_count": null,
   "outputs": [],
   "source": [
    "test_ncs"
   ],
   "metadata": {
    "collapsed": false,
    "pycharm": {
     "name": "#%%\n"
    }
   }
  },
  {
   "cell_type": "code",
   "execution_count": null,
   "outputs": [],
   "source": [],
   "metadata": {
    "collapsed": false,
    "pycharm": {
     "name": "#%%\n"
    }
   }
  }
 ],
 "metadata": {
  "kernelspec": {
   "display_name": "Python [conda env:.conda-degpy]",
   "language": "python",
   "name": "conda-env-.conda-degpy-py"
  },
  "language_info": {
   "codemirror_mode": {
    "name": "ipython",
    "version": 3
   },
   "file_extension": ".py",
   "mimetype": "text/x-python",
   "name": "python",
   "nbconvert_exporter": "python",
   "pygments_lexer": "ipython3",
   "version": "3.7.6"
  },
  "pycharm": {
   "stem_cell": {
    "cell_type": "raw",
    "source": [],
    "metadata": {
     "collapsed": false
    }
   }
  }
 },
 "nbformat": 4,
 "nbformat_minor": 2
}