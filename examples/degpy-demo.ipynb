{
 "cells": [
  {
   "cell_type": "markdown",
   "metadata": {},
   "source": [
    "# degpy \n",
    "*degpy* is a python package for simplified interaction with Insel Lab degu electrophysiology data. The data is interfaced through `Session` objects, which contains meta-data about a given experimental session, as well as utilities to load data collected from the session. This is done so through `Terminal` objects, which contain data about a specific collection of data (LFP1.ncs, R1.ncs, etc). "
   ]
  },
  {
   "cell_type": "markdown",
   "metadata": {},
   "source": [
    "## Session Objects "
   ]
  },
  {
   "cell_type": "markdown",
   "metadata": {},
   "source": [
    "From the `session` module, import the `Session` class.\n",
    "\n",
    "To instantiate a `Session` object, simply pass it a session directory (e.g. *080602/080602_ps17_160704/2016-07-04_13-22-47/*, here the session directory is sample-data/)\n",
    "\n",
    "A session object is populated by the data contained in the Events.nev file, and contains the following attributes."
   ]
  },
  {
   "cell_type": "code",
   "execution_count": 11,
   "metadata": {},
   "outputs": [
    {
     "name": "stdout",
     "output_type": "stream",
     "text": [
      "Session attributes: ['data_files', 'events', 'events_file', 'get_terminal', 'header', 'records', 'session_path', 'timestamps']\n"
     ]
    }
   ],
   "source": [
    "from degpy.session import Session\n",
    "\n",
    "# For demo purposes, using a sample data directory\n",
    "sess = Session('sample_data')\n",
    "\n",
    "print(\"Session attributes: {}\".format([x for x in dir(sess) if x[0] != \"_\"]))"
   ]
  },
  {
   "cell_type": "markdown",
   "metadata": {},
   "source": [
    "#### Session attributes:\n",
    "* `data_files`: list type, files in directory containing neuralynx ephys data (.ncs, .nse, .ntt files)\n",
    "* `events`: array type, experiment exposure types, with index corresponding to index of `records` and `timestamps` attributes \n",
    "* `header`: dict type, neuralynx session meta-data \n",
    "* `records`: ndarray type, extraneous events data\n",
    "* `session_path`: str type, path to session directory\n",
    "* `timestamps`: int type, neuralynx timestamps for corresponding events "
   ]
  },
  {
   "cell_type": "code",
   "execution_count": 2,
   "metadata": {},
   "outputs": [
    {
     "data": {
      "text/plain": [
       "FileName: C:\\CheetahData\\080602_ps17_160704\\2016-07-04_13-22-47\\Events.nev\n",
       "TimeOpened: Time Opened (m/d/y): 7/4/2016  (h:m:s.ms) 13:22:47.847\n",
       "TimeOpened_dt: 2016-07-04 13:22:47.847000\n",
       "TimeClosed: Time Closed (m/d/y): 7/4/2016  (h:m:s.ms) 15:42:19.545\n",
       "TimeClosed_dt: 2016-07-04 15:42:19.545000\n",
       "FileType: Event\n",
       "FileVersion: 3.1.0\n",
       "RecordSize: 184\n",
       "CheetahRev: 5.6.3\n",
       "AcqEntName: Events"
      ]
     },
     "execution_count": 2,
     "metadata": {},
     "output_type": "execute_result"
    }
   ],
   "source": [
    "sess"
   ]
  },
  {
   "cell_type": "code",
   "execution_count": 3,
   "metadata": {},
   "outputs": [
    {
     "data": {
      "text/plain": [
       "['E1.ncs', 'LFP1.ncs', 'R1.ncs']"
      ]
     },
     "execution_count": 3,
     "metadata": {},
     "output_type": "execute_result"
    }
   ],
   "source": [
    "sess.data_files"
   ]
  },
  {
   "cell_type": "code",
   "execution_count": 4,
   "metadata": {},
   "outputs": [
    {
     "data": {
      "text/plain": [
       "array(['Starting Recording', 'r1s', 'r1e', 'b1s', 'b1e', 'b2s', 'b2e',\n",
       "       'b3s', 's1', 's1o', 's2', 's2o', 'b3e', 'b4s', 's1', 's1o', 's2',\n",
       "       's2o', 'b4e', 'b5s', 's1', 's2', 's1o', 's2o', 'b5e', 'b6s', 's1',\n",
       "       's2', 's1o', 's2o', 'b6e', 'b7s', 'o1', 'o1o', 'o2', 'o2o', 'b7e',\n",
       "       'b8s', 'o1', 'o1o', 'o2', 'o2o', 'b8e', 'b9s', 'o1', 'o2', 'o1o',\n",
       "       'o2o', 'b9e', 'b10s', 'o1', 'o2', 'o1o', 'o2o', 'b10e', 'b11s',\n",
       "       'b11e', 'b12s', 'b12e', 'r2s', 'r2e', 'Stopping Recording'],\n",
       "      dtype='<U18')"
      ]
     },
     "execution_count": 4,
     "metadata": {},
     "output_type": "execute_result"
    }
   ],
   "source": [
    "sess.events"
   ]
  },
  {
   "cell_type": "code",
   "execution_count": 5,
   "metadata": {
    "scrolled": true
   },
   "outputs": [
    {
     "data": {
      "text/plain": [
       "array([ 819292348,  820704626, 2357462785, 2460552980, 2647660347,\n",
       "       2681133267, 2848031726, 2952754453, 2959492883, 3178598941,\n",
       "       3230407375, 3414666506, 3420683097, 3447851238, 3468828139,\n",
       "       3649999782, 3680383965, 3867330844, 3872533450, 3904740176,\n",
       "       3921028078, 3941508854, 4124472201, 4147256544, 4153336928,\n",
       "       4184184688, 4206761289, 4224312767, 4405597635, 4425166116,\n",
       "       4430398038, 4513503120, 4522351043, 4692722532, 4697587436,\n",
       "       4876038986, 4880694295, 4893318789, 4894920233, 5077130198,\n",
       "       5080922159, 5265934075, 5269197231, 5289374539, 5293614543,\n",
       "       5299486409, 5465105404, 5469121377, 5473825164, 5483505847,\n",
       "       5485778551, 5488322253, 5656516283, 5659572495, 5663204921,\n",
       "       5673285445, 5845176089, 5859240526, 6043596308, 6119870140,\n",
       "       8116978666, 8120860287], dtype=uint64)"
      ]
     },
     "execution_count": 5,
     "metadata": {},
     "output_type": "execute_result"
    }
   ],
   "source": [
    "sess.timestamps"
   ]
  },
  {
   "cell_type": "code",
   "execution_count": 6,
   "metadata": {},
   "outputs": [
    {
     "data": {
      "text/plain": [
       "{'FileName': 'C:\\\\CheetahData\\\\080602_ps17_160704\\\\2016-07-04_13-22-47\\\\Events.nev',\n",
       " 'TimeOpened': 'Time Opened (m/d/y): 7/4/2016  (h:m:s.ms) 13:22:47.847',\n",
       " 'TimeOpened_dt': datetime.datetime(2016, 7, 4, 13, 22, 47, 847000),\n",
       " 'TimeClosed': 'Time Closed (m/d/y): 7/4/2016  (h:m:s.ms) 15:42:19.545',\n",
       " 'TimeClosed_dt': datetime.datetime(2016, 7, 4, 15, 42, 19, 545000),\n",
       " 'FileType': 'Event',\n",
       " 'FileVersion': '3.1.0',\n",
       " 'RecordSize': '184',\n",
       " 'CheetahRev': '5.6.3',\n",
       " 'AcqEntName': 'Events'}"
      ]
     },
     "execution_count": 6,
     "metadata": {},
     "output_type": "execute_result"
    }
   ],
   "source": [
    "sess.header"
   ]
  },
  {
   "cell_type": "code",
   "execution_count": 7,
   "metadata": {},
   "outputs": [
    {
     "data": {
      "text/plain": [
       "array([(0, 0, 0,  819292348, 0, 0, 0, 0, 0, [0, 0, 0, 0, 0, 0, 0, 0], b'Starting Recording'),\n",
       "       (0, 0, 0,  820704626, 4, 0, 0, 0, 0, [0, 0, 0, 0, 0, 0, 0, 0], b'r1s'),\n",
       "       (0, 0, 0, 2357462785, 4, 0, 0, 0, 0, [0, 0, 0, 0, 0, 0, 0, 0], b'r1e'),\n",
       "       (0, 0, 0, 2460552980, 4, 0, 0, 0, 0, [0, 0, 0, 0, 0, 0, 0, 0], b'b1s'),\n",
       "       (0, 0, 0, 2647660347, 4, 0, 0, 0, 0, [0, 0, 0, 0, 0, 0, 0, 0], b'b1e'),\n",
       "       (0, 0, 0, 2681133267, 4, 0, 0, 0, 0, [0, 0, 0, 0, 0, 0, 0, 0], b'b2s'),\n",
       "       (0, 0, 0, 2848031726, 4, 0, 0, 0, 0, [0, 0, 0, 0, 0, 0, 0, 0], b'b2e'),\n",
       "       (0, 0, 0, 2952754453, 4, 0, 0, 0, 0, [0, 0, 0, 0, 0, 0, 0, 0], b'b3s'),\n",
       "       (0, 0, 0, 2959492883, 4, 0, 0, 0, 0, [0, 0, 0, 0, 0, 0, 0, 0], b's1'),\n",
       "       (0, 0, 0, 3178598941, 4, 0, 0, 0, 0, [0, 0, 0, 0, 0, 0, 0, 0], b's1o'),\n",
       "       (0, 0, 0, 3230407375, 4, 0, 0, 0, 0, [0, 0, 0, 0, 0, 0, 0, 0], b's2'),\n",
       "       (0, 0, 0, 3414666506, 4, 0, 0, 0, 0, [0, 0, 0, 0, 0, 0, 0, 0], b's2o'),\n",
       "       (0, 0, 0, 3420683097, 4, 0, 0, 0, 0, [0, 0, 0, 0, 0, 0, 0, 0], b'b3e'),\n",
       "       (0, 0, 0, 3447851238, 4, 0, 0, 0, 0, [0, 0, 0, 0, 0, 0, 0, 0], b'b4s'),\n",
       "       (0, 0, 0, 3468828139, 4, 0, 0, 0, 0, [0, 0, 0, 0, 0, 0, 0, 0], b's1'),\n",
       "       (0, 0, 0, 3649999782, 4, 0, 0, 0, 0, [0, 0, 0, 0, 0, 0, 0, 0], b's1o'),\n",
       "       (0, 0, 0, 3680383965, 4, 0, 0, 0, 0, [0, 0, 0, 0, 0, 0, 0, 0], b's2'),\n",
       "       (0, 0, 0, 3867330844, 4, 0, 0, 0, 0, [0, 0, 0, 0, 0, 0, 0, 0], b's2o'),\n",
       "       (0, 0, 0, 3872533450, 4, 0, 0, 0, 0, [0, 0, 0, 0, 0, 0, 0, 0], b'b4e'),\n",
       "       (0, 0, 0, 3904740176, 4, 0, 0, 0, 0, [0, 0, 0, 0, 0, 0, 0, 0], b'b5s'),\n",
       "       (0, 0, 0, 3921028078, 4, 0, 0, 0, 0, [0, 0, 0, 0, 0, 0, 0, 0], b's1'),\n",
       "       (0, 0, 0, 3941508854, 4, 0, 0, 0, 0, [0, 0, 0, 0, 0, 0, 0, 0], b's2'),\n",
       "       (0, 0, 0, 4124472201, 4, 0, 0, 0, 0, [0, 0, 0, 0, 0, 0, 0, 0], b's1o'),\n",
       "       (0, 0, 0, 4147256544, 4, 0, 0, 0, 0, [0, 0, 0, 0, 0, 0, 0, 0], b's2o'),\n",
       "       (0, 0, 0, 4153336928, 4, 0, 0, 0, 0, [0, 0, 0, 0, 0, 0, 0, 0], b'b5e'),\n",
       "       (0, 0, 0, 4184184688, 4, 0, 0, 0, 0, [0, 0, 0, 0, 0, 0, 0, 0], b'b6s'),\n",
       "       (0, 0, 0, 4206761289, 4, 0, 0, 0, 0, [0, 0, 0, 0, 0, 0, 0, 0], b's1'),\n",
       "       (0, 0, 0, 4224312767, 4, 0, 0, 0, 0, [0, 0, 0, 0, 0, 0, 0, 0], b's2'),\n",
       "       (0, 0, 0, 4405597635, 4, 0, 0, 0, 0, [0, 0, 0, 0, 0, 0, 0, 0], b's1o'),\n",
       "       (0, 0, 0, 4425166116, 4, 0, 0, 0, 0, [0, 0, 0, 0, 0, 0, 0, 0], b's2o'),\n",
       "       (0, 0, 0, 4430398038, 4, 0, 0, 0, 0, [0, 0, 0, 0, 0, 0, 0, 0], b'b6e'),\n",
       "       (0, 0, 0, 4513503120, 4, 0, 0, 0, 0, [0, 0, 0, 0, 0, 0, 0, 0], b'b7s'),\n",
       "       (0, 0, 0, 4522351043, 4, 0, 0, 0, 0, [0, 0, 0, 0, 0, 0, 0, 0], b'o1'),\n",
       "       (0, 0, 0, 4692722532, 4, 0, 0, 0, 0, [0, 0, 0, 0, 0, 0, 0, 0], b'o1o'),\n",
       "       (0, 0, 0, 4697587436, 4, 0, 0, 0, 0, [0, 0, 0, 0, 0, 0, 0, 0], b'o2'),\n",
       "       (0, 0, 0, 4876038986, 4, 0, 0, 0, 0, [0, 0, 0, 0, 0, 0, 0, 0], b'o2o'),\n",
       "       (0, 0, 0, 4880694295, 4, 0, 0, 0, 0, [0, 0, 0, 0, 0, 0, 0, 0], b'b7e'),\n",
       "       (0, 0, 0, 4893318789, 4, 0, 0, 0, 0, [0, 0, 0, 0, 0, 0, 0, 0], b'b8s'),\n",
       "       (0, 0, 0, 4894920233, 4, 0, 0, 0, 0, [0, 0, 0, 0, 0, 0, 0, 0], b'o1'),\n",
       "       (0, 0, 0, 5077130198, 4, 0, 0, 0, 0, [0, 0, 0, 0, 0, 0, 0, 0], b'o1o'),\n",
       "       (0, 0, 0, 5080922159, 4, 0, 0, 0, 0, [0, 0, 0, 0, 0, 0, 0, 0], b'o2'),\n",
       "       (0, 0, 0, 5265934075, 4, 0, 0, 0, 0, [0, 0, 0, 0, 0, 0, 0, 0], b'o2o'),\n",
       "       (0, 0, 0, 5269197231, 4, 0, 0, 0, 0, [0, 0, 0, 0, 0, 0, 0, 0], b'b8e'),\n",
       "       (0, 0, 0, 5289374539, 4, 0, 0, 0, 0, [0, 0, 0, 0, 0, 0, 0, 0], b'b9s'),\n",
       "       (0, 0, 0, 5293614543, 4, 0, 0, 0, 0, [0, 0, 0, 0, 0, 0, 0, 0], b'o1'),\n",
       "       (0, 0, 0, 5299486409, 4, 0, 0, 0, 0, [0, 0, 0, 0, 0, 0, 0, 0], b'o2'),\n",
       "       (0, 0, 0, 5465105404, 4, 0, 0, 0, 0, [0, 0, 0, 0, 0, 0, 0, 0], b'o1o'),\n",
       "       (0, 0, 0, 5469121377, 4, 0, 0, 0, 0, [0, 0, 0, 0, 0, 0, 0, 0], b'o2o'),\n",
       "       (0, 0, 0, 5473825164, 4, 0, 0, 0, 0, [0, 0, 0, 0, 0, 0, 0, 0], b'b9e'),\n",
       "       (0, 0, 0, 5483505847, 4, 0, 0, 0, 0, [0, 0, 0, 0, 0, 0, 0, 0], b'b10s'),\n",
       "       (0, 0, 0, 5485778551, 4, 0, 0, 0, 0, [0, 0, 0, 0, 0, 0, 0, 0], b'o1'),\n",
       "       (0, 0, 0, 5488322253, 4, 0, 0, 0, 0, [0, 0, 0, 0, 0, 0, 0, 0], b'o2'),\n",
       "       (0, 0, 0, 5656516283, 4, 0, 0, 0, 0, [0, 0, 0, 0, 0, 0, 0, 0], b'o1o'),\n",
       "       (0, 0, 0, 5659572495, 4, 0, 0, 0, 0, [0, 0, 0, 0, 0, 0, 0, 0], b'o2o'),\n",
       "       (0, 0, 0, 5663204921, 4, 0, 0, 0, 0, [0, 0, 0, 0, 0, 0, 0, 0], b'b10e'),\n",
       "       (0, 0, 0, 5673285445, 4, 0, 0, 0, 0, [0, 0, 0, 0, 0, 0, 0, 0], b'b11s'),\n",
       "       (0, 0, 0, 5845176089, 4, 0, 0, 0, 0, [0, 0, 0, 0, 0, 0, 0, 0], b'b11e'),\n",
       "       (0, 0, 0, 5859240526, 4, 0, 0, 0, 0, [0, 0, 0, 0, 0, 0, 0, 0], b'b12s'),\n",
       "       (0, 0, 0, 6043596308, 4, 0, 0, 0, 0, [0, 0, 0, 0, 0, 0, 0, 0], b'b12e'),\n",
       "       (0, 0, 0, 6119870140, 4, 0, 0, 0, 0, [0, 0, 0, 0, 0, 0, 0, 0], b'r2s'),\n",
       "       (0, 0, 0, 8116978666, 4, 0, 0, 0, 0, [0, 0, 0, 0, 0, 0, 0, 0], b'r2e'),\n",
       "       (0, 0, 0, 8120860287, 0, 0, 0, 0, 0, [0, 0, 0, 0, 0, 0, 0, 0], b'Stopping Recording')],\n",
       "      dtype=[('stx', '<i2'), ('pkt_id', '<i2'), ('pkt_data_size', '<i2'), ('TimeStamp', '<u8'), ('event_id', '<i2'), ('ttl', '<i2'), ('crc', '<i2'), ('dummy1', '<i2'), ('dummy2', '<i2'), ('Extra', '<i4', (8,)), ('EventString', 'S128')])"
      ]
     },
     "execution_count": 7,
     "metadata": {},
     "output_type": "execute_result"
    }
   ],
   "source": [
    "sess.records"
   ]
  },
  {
   "cell_type": "code",
   "execution_count": 8,
   "metadata": {},
   "outputs": [
    {
     "data": {
      "text/plain": [
       "array([ 819292348,  820704626, 2357462785, 2460552980, 2647660347,\n",
       "       2681133267, 2848031726, 2952754453, 2959492883, 3178598941,\n",
       "       3230407375, 3414666506, 3420683097, 3447851238, 3468828139,\n",
       "       3649999782, 3680383965, 3867330844, 3872533450, 3904740176,\n",
       "       3921028078, 3941508854, 4124472201, 4147256544, 4153336928,\n",
       "       4184184688, 4206761289, 4224312767, 4405597635, 4425166116,\n",
       "       4430398038, 4513503120, 4522351043, 4692722532, 4697587436,\n",
       "       4876038986, 4880694295, 4893318789, 4894920233, 5077130198,\n",
       "       5080922159, 5265934075, 5269197231, 5289374539, 5293614543,\n",
       "       5299486409, 5465105404, 5469121377, 5473825164, 5483505847,\n",
       "       5485778551, 5488322253, 5656516283, 5659572495, 5663204921,\n",
       "       5673285445, 5845176089, 5859240526, 6043596308, 6119870140,\n",
       "       8116978666, 8120860287], dtype=uint64)"
      ]
     },
     "execution_count": 8,
     "metadata": {},
     "output_type": "execute_result"
    }
   ],
   "source": [
    "sess.timestamps"
   ]
  },
  {
   "cell_type": "markdown",
   "metadata": {},
   "source": [
    "To access data collected from a given session, the method `.get_terminal()` accepts a filename contained in `Session.data_files` and returns a custom Terminal object."
   ]
  },
  {
   "cell_type": "markdown",
   "metadata": {},
   "source": [
    "#### Session methods\n",
    "* `get_terminal`: Terminal type, custom abstraction of singular data collection (i.e. one .ncs file)"
   ]
  },
  {
   "cell_type": "markdown",
   "metadata": {},
   "source": [
    "## Terminal Objects \n",
    "\n",
    "Using a `Session` object as an interface, you can retrieve experimental data abstracted as a `Terminal` object. A `Terminal` object contains ephys data as well as meta data about the session."
   ]
  },
  {
   "cell_type": "code",
   "execution_count": 17,
   "metadata": {},
   "outputs": [
    {
     "name": "stdout",
     "output_type": "stream",
     "text": [
      "Session attributes: ['bandpower', 'bandpower_splits', 'channel_number', 'data', 'data_units', 'event_timestamps', 'events', 'file_path', 'header', 'raw_header', 'sampling_rate', 'timestamp', 'timestamp_expanded']\n"
     ]
    }
   ],
   "source": [
    "lfp1 = sess.get_terminal('LFP1.ncs')\n",
    "\n",
    "print(\"Session attributes: {}\".format([x for x in dir(lfp1) if x[0] != \"_\"]))"
   ]
  },
  {
   "cell_type": "markdown",
   "metadata": {},
   "source": [
    "#### Terminal Attributes \n",
    "* `channel_number`: Neuralynx channel number used for particular record\n",
    "* `data`: Data points for entire session\n",
    "* `data_units`: Units for data (uV, mV, V)\n",
    "* `event_timestamps`: Timestamps of exposure start/end times for corresponding events\n",
    "* `events`: List of events corresponding to event timestamps\n",
    "* `file_path`: Absolute file path to data record\n",
    "* `header`: Neuralynx header for given data file\n",
    "* `raw_header`: Unstructured Neuralynx header for given data file\n",
    "* `sampling_rate`: Number of data points collected per second\n",
    "* `timestamp`: Timestamp for every 512 data points (per Neuralynx convention)\n",
    "* `timestamp_expanded`: Timestamp corresponding to each data point"
   ]
  },
  {
   "cell_type": "code",
   "execution_count": 23,
   "metadata": {},
   "outputs": [
    {
     "data": {
      "text/plain": [
       "14855168"
      ]
     },
     "execution_count": 23,
     "metadata": {},
     "output_type": "execute_result"
    }
   ],
   "source": [
    "len(lfp1.data)"
   ]
  },
  {
   "cell_type": "code",
   "execution_count": 18,
   "metadata": {},
   "outputs": [
    {
     "data": {
      "text/plain": [
       "7"
      ]
     },
     "execution_count": 18,
     "metadata": {},
     "output_type": "execute_result"
    }
   ],
   "source": [
    "lfp1.channel_number"
   ]
  },
  {
   "cell_type": "code",
   "execution_count": 19,
   "metadata": {},
   "outputs": [
    {
     "data": {
      "text/plain": [
       "array([-41.26102604, -44.3739141 , -43.76354389, ...,  95.15671538,\n",
       "        97.23197409,  99.06308471])"
      ]
     },
     "execution_count": 19,
     "metadata": {},
     "output_type": "execute_result"
    }
   ],
   "source": [
    "lfp1.data"
   ]
  },
  {
   "cell_type": "code",
   "execution_count": 13,
   "metadata": {},
   "outputs": [
    {
     "data": {
      "text/plain": [
       "'µV'"
      ]
     },
     "execution_count": 13,
     "metadata": {},
     "output_type": "execute_result"
    }
   ],
   "source": [
    "lfp1.data_units"
   ]
  },
  {
   "cell_type": "code",
   "execution_count": 14,
   "metadata": {},
   "outputs": [
    {
     "data": {
      "text/plain": [
       "array([ 819292348,  820704626, 2357462785, 2460552980, 2647660347,\n",
       "       2681133267, 2848031726, 2952754453, 2959492883, 3178598941,\n",
       "       3230407375, 3414666506, 3420683097, 3447851238, 3468828139,\n",
       "       3649999782, 3680383965, 3867330844, 3872533450, 3904740176,\n",
       "       3921028078, 3941508854, 4124472201, 4147256544, 4153336928,\n",
       "       4184184688, 4206761289, 4224312767, 4405597635, 4425166116,\n",
       "       4430398038, 4513503120, 4522351043, 4692722532, 4697587436,\n",
       "       4876038986, 4880694295, 4893318789, 4894920233, 5077130198,\n",
       "       5080922159, 5265934075, 5269197231, 5289374539, 5293614543,\n",
       "       5299486409, 5465105404, 5469121377, 5473825164, 5483505847,\n",
       "       5485778551, 5488322253, 5656516283, 5659572495, 5663204921,\n",
       "       5673285445, 5845176089, 5859240526, 6043596308, 6119870140,\n",
       "       8116978666, 8120860287], dtype=uint64)"
      ]
     },
     "execution_count": 14,
     "metadata": {},
     "output_type": "execute_result"
    }
   ],
   "source": [
    "lfp1.event_timestamps"
   ]
  },
  {
   "cell_type": "code",
   "execution_count": 15,
   "metadata": {},
   "outputs": [
    {
     "data": {
      "text/plain": [
       "array(['Starting Recording', 'r1s', 'r1e', 'b1s', 'b1e', 'b2s', 'b2e',\n",
       "       'b3s', 's1', 's1o', 's2', 's2o', 'b3e', 'b4s', 's1', 's1o', 's2',\n",
       "       's2o', 'b4e', 'b5s', 's1', 's2', 's1o', 's2o', 'b5e', 'b6s', 's1',\n",
       "       's2', 's1o', 's2o', 'b6e', 'b7s', 'o1', 'o1o', 'o2', 'o2o', 'b7e',\n",
       "       'b8s', 'o1', 'o1o', 'o2', 'o2o', 'b8e', 'b9s', 'o1', 'o2', 'o1o',\n",
       "       'o2o', 'b9e', 'b10s', 'o1', 'o2', 'o1o', 'o2o', 'b10e', 'b11s',\n",
       "       'b11e', 'b12s', 'b12e', 'r2s', 'r2e', 'Stopping Recording'],\n",
       "      dtype='<U18')"
      ]
     },
     "execution_count": 15,
     "metadata": {},
     "output_type": "execute_result"
    }
   ],
   "source": [
    "lfp1.events"
   ]
  },
  {
   "cell_type": "code",
   "execution_count": 16,
   "metadata": {},
   "outputs": [
    {
     "data": {
      "text/plain": [
       "'/Users/Max/Dropbox/Notebook/2019/degpy/sample-data/LFP1.ncs'"
      ]
     },
     "execution_count": 16,
     "metadata": {},
     "output_type": "execute_result"
    }
   ],
   "source": [
    "lfp1.file_path"
   ]
  },
  {
   "cell_type": "code",
   "execution_count": 17,
   "metadata": {},
   "outputs": [
    {
     "data": {
      "text/plain": [
       "{'FileName': 'C:\\\\CheetahData\\\\080602_ps17_160704\\\\2016-07-04_13-22-47\\\\LFP1.ncs',\n",
       " 'TimeOpened': 'Time Opened (m/d/y): 7/4/2016  (h:m:s.ms) 13:22:47.905',\n",
       " 'TimeOpened_dt': datetime.datetime(2016, 7, 4, 13, 22, 47, 905000),\n",
       " 'TimeClosed': 'Time Closed (m/d/y): 7/4/2016  (h:m:s.ms) 15:42:17.343',\n",
       " 'TimeClosed_dt': datetime.datetime(2016, 7, 4, 15, 42, 17, 343000),\n",
       " 'FileType': 'CSC',\n",
       " 'FileVersion': '3.3.0',\n",
       " 'RecordSize': '1044',\n",
       " 'CheetahRev': '5.6.3',\n",
       " 'HardwareSubSystemName': 'AcqSystem1',\n",
       " 'HardwareSubSystemType': 'DigitalLynx',\n",
       " 'SamplingFrequency': '2034.75',\n",
       " 'ADMaxValue': '32767',\n",
       " 'ADBitVolts': '0.000000061037020770982053',\n",
       " 'AcqEntName': 'LFP1',\n",
       " 'NumADChannels': '1',\n",
       " 'ADChannel': '43',\n",
       " 'InputRange': '2000',\n",
       " 'InputInverted': 'True',\n",
       " 'DSPLowCutFilterEnabled': 'True',\n",
       " 'DspLowCutFrequency': '0.3',\n",
       " 'DspLowCutNumTaps': '0',\n",
       " 'DspLowCutFilterType': 'DCO',\n",
       " 'DSPHighCutFilterEnabled': 'True',\n",
       " 'DspHighCutFrequency': '500',\n",
       " 'DspHighCutNumTaps': '64',\n",
       " 'DspHighCutFilterType': 'FIR',\n",
       " 'DspDelayCompensation': 'Disabled',\n",
       " 'DspFilterDelay_µs': '968'}"
      ]
     },
     "execution_count": 17,
     "metadata": {},
     "output_type": "execute_result"
    }
   ],
   "source": [
    "lfp1.header"
   ]
  },
  {
   "cell_type": "code",
   "execution_count": 18,
   "metadata": {},
   "outputs": [
    {
     "data": {
      "text/plain": [
       "b'######## Neuralynx Data File Header\\r\\n## File Name C:\\\\CheetahData\\\\080602_ps17_160704\\\\2016-07-04_13-22-47\\\\LFP1.ncs\\r\\n## Time Opened (m/d/y): 7/4/2016  (h:m:s.ms) 13:22:47.905\\r\\n## Time Closed (m/d/y): 7/4/2016  (h:m:s.ms) 15:42:17.343\\r\\n\\r\\n-FileType CSC\\r\\n-FileVersion 3.3.0\\r\\n-RecordSize 1044\\r\\n\\r\\n-CheetahRev 5.6.3 \\r\\n\\r\\n-HardwareSubSystemName AcqSystem1\\r\\n-HardwareSubSystemType DigitalLynx\\r\\n-SamplingFrequency 2034.75\\r\\n-ADMaxValue 32767\\r\\n-ADBitVolts 0.000000061037020770982053\\r\\n\\r\\n-AcqEntName LFP1\\r\\n-NumADChannels 1\\r\\n-ADChannel 43\\r\\n-InputRange 2000\\r\\n-InputInverted True\\r\\n\\r\\n-DSPLowCutFilterEnabled True\\r\\n-DspLowCutFrequency 0.3\\r\\n-DspLowCutNumTaps 0\\r\\n-DspLowCutFilterType DCO\\r\\n-DSPHighCutFilterEnabled True\\r\\n-DspHighCutFrequency 500\\r\\n-DspHighCutNumTaps 64\\r\\n-DspHighCutFilterType FIR\\r\\n-DspDelayCompensation Disabled\\r\\n-DspFilterDelay_\\xb5s 968\\r\\n'"
      ]
     },
     "execution_count": 18,
     "metadata": {},
     "output_type": "execute_result"
    }
   ],
   "source": [
    "lfp1.raw_header"
   ]
  },
  {
   "cell_type": "code",
   "execution_count": 20,
   "metadata": {},
   "outputs": [
    {
     "data": {
      "text/plain": [
       "2034"
      ]
     },
     "execution_count": 20,
     "metadata": {},
     "output_type": "execute_result"
    }
   ],
   "source": [
    "lfp1.sampling_rate # Given in Hz"
   ]
  },
  {
   "cell_type": "code",
   "execution_count": 21,
   "metadata": {},
   "outputs": [
    {
     "data": {
      "text/plain": [
       "array([ 819292809,  819544467,  819796125, ..., 8120150010, 8120401668,\n",
       "       8120653326], dtype=uint64)"
      ]
     },
     "execution_count": 21,
     "metadata": {},
     "output_type": "execute_result"
    }
   ],
   "source": [
    "lfp1.timestamp"
   ]
  },
  {
   "cell_type": "markdown",
   "metadata": {},
   "source": [
    "### Terminal Methods\n",
    "`bandpower` : Returns bandpower of given exposure\n",
    "`bandpower_splits`: Returns bandpower of every exposure in session"
   ]
  },
  {
   "cell_type": "code",
   "execution_count": 4,
   "metadata": {},
   "outputs": [],
   "source": [
    "bp_splits = lfp1.bandpower_splits([40, 80])"
   ]
  },
  {
   "cell_type": "code",
   "execution_count": 8,
   "metadata": {},
   "outputs": [],
   "source": [
    "import pandas as pd\n",
    "import matplotlib.pyplot as plt\n",
    "\n",
    "bp_splits_pd = pd.Series(bp_splits)"
   ]
  },
  {
   "cell_type": "code",
   "execution_count": 16,
   "metadata": {},
   "outputs": [
    {
     "data": {
      "image/png": "[encoded data removed]",
      "text/plain": [
       "<Figure size 720x576 with 1 Axes>"
      ]
     },
     "metadata": {
      "needs_background": "light"
     },
     "output_type": "display_data"
    }
   ],
   "source": [
    "fig, ax = plt.subplots(figsize=(10, 8))\n",
    "bp_splits_pd.plot(kind='bar', ax=ax);\n",
    "ax.set_ylabel('Absolute Gamma Power (uV^2)')\n",
    "ax.set_xlabel('Exposure');"
   ]
  },
  {
   "cell_type": "code",
   "execution_count": null,
   "metadata": {},
   "outputs": [],
   "source": []
  }
 ],
 "metadata": {
  "kernelspec": {
   "display_name": "Python 3",
   "language": "python",
   "name": "python3"
  },
  "language_info": {
   "codemirror_mode": {
    "name": "ipython",
    "version": 3
   },
   "file_extension": ".py",
   "mimetype": "text/x-python",
   "name": "python",
   "nbconvert_exporter": "python",
   "pygments_lexer": "ipython3",
   "version": "3.7.4"
  }
 },
 "nbformat": 4,
 "nbformat_minor": 4
}
